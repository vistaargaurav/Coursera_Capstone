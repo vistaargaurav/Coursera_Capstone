{
    "nbformat_minor": 1, 
    "cells": [
        {
            "source": "# Data Science Project\n## This notebook is for Github\n### This notebook mainly used for the Capstone Project.", 
            "cell_type": "markdown", 
            "metadata": {
                "collapsed": true
            }
        }, 
        {
            "execution_count": 1, 
            "cell_type": "code", 
            "metadata": {}, 
            "outputs": [
                {
                    "output_type": "stream", 
                    "name": "stdout", 
                    "text": "Hello Capstone Project Course!\n"
                }
            ], 
            "source": "import pandas as pd\nimport numpy as np\nprint (\"Hello Capstone Project Course!\")"
        }, 
        {
            "execution_count": 5, 
            "cell_type": "code", 
            "metadata": {}, 
            "outputs": [
                {
                    "output_type": "stream", 
                    "name": "stdout", 
                    "text": "Array is of type: \nNo. of dimensions:  2\nShape of array:  (2, 3)\nSize of array:  6\nArray stores elements of type:  int64\n"
                }
            ], 
            "source": "# Creating array object \narr = np.array( [[ 1, 2, 3], \n                 [ 4, 2, 5]] ) \n  \n# Printing type of arr object \nprint(\"Array is of type: \") \n  \n# Printing array dimensions (axes) \nprint(\"No. of dimensions: \", arr.ndim) \n  \n# Printing shape of array \nprint(\"Shape of array: \", arr.shape) \n  \n# Printing size (total number of elements) of array \nprint(\"Size of array: \", arr.size) \n  \n# Printing type of elements in array \nprint(\"Array stores elements of type: \", arr.dtype) "
        }, 
        {
            "execution_count": null, 
            "cell_type": "code", 
            "metadata": {}, 
            "outputs": [], 
            "source": ""
        }
    ], 
    "metadata": {
        "kernelspec": {
            "display_name": "Python 3.6", 
            "name": "python3", 
            "language": "python"
        }, 
        "language_info": {
            "mimetype": "text/x-python", 
            "nbconvert_exporter": "python", 
            "version": "3.6.8", 
            "name": "python", 
            "file_extension": ".py", 
            "pygments_lexer": "ipython3", 
            "codemirror_mode": {
                "version": 3, 
                "name": "ipython"
            }
        }
    }, 
    "nbformat": 4
}